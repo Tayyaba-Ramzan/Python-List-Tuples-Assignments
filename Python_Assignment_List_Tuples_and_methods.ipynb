{
  "nbformat": 4,
  "nbformat_minor": 0,
  "metadata": {
    "colab": {
      "provenance": [],
      "authorship_tag": "ABX9TyNIgoLth+1uHu53vQnqezQp",
      "include_colab_link": true
    },
    "kernelspec": {
      "name": "python3",
      "display_name": "Python 3"
    },
    "language_info": {
      "name": "python"
    }
  },
  "cells": [
    {
      "cell_type": "markdown",
      "metadata": {
        "id": "view-in-github",
        "colab_type": "text"
      },
      "source": [
        "<a href=\"https://colab.research.google.com/github/Tayyaba-Ramzan/Python-List-Tuples-Assignments/blob/main/Python_Assignment_List_Tuples_and_methods.ipynb\" target=\"_parent\"><img src=\"https://colab.research.google.com/assets/colab-badge.svg\" alt=\"Open In Colab\"/></a>"
      ]
    },
    {
      "cell_type": "markdown",
      "source": [
        "# ***Basic List Operations***"
      ],
      "metadata": {
        "id": "s3qod1UcH6kU"
      }
    },
    {
      "cell_type": "markdown",
      "source": [
        "*1. Create a list of five numbers and append a new number to it. Print the updated list.*"
      ],
      "metadata": {
        "id": "vj0Xsp9RITOT"
      }
    },
    {
      "cell_type": "code",
      "source": [
        "five_numbers = [1, 2, 3, 4, 5]\n",
        "five_numbers.append(6)\n",
        "print(five_numbers)"
      ],
      "metadata": {
        "colab": {
          "base_uri": "https://localhost:8080/"
        },
        "id": "Op62fPGvIX4z",
        "outputId": "1c0d52eb-cb24-4eb8-8b7b-869486e29007"
      },
      "execution_count": null,
      "outputs": [
        {
          "output_type": "stream",
          "name": "stdout",
          "text": [
            "[1, 2, 3, 4, 5, 6]\n"
          ]
        }
      ]
    },
    {
      "cell_type": "markdown",
      "source": [],
      "metadata": {
        "id": "X2NH71IIn4Rz"
      }
    },
    {
      "cell_type": "markdown",
      "source": [
        "*2. Extend a list [1, 2, 3] with another list [4, 5, 6]. Print the result.*\n"
      ],
      "metadata": {
        "id": "Oh1JrEnCIfnD"
      }
    },
    {
      "cell_type": "code",
      "source": [
        "list1 = [1, 2, 3]\n",
        "list2 = [4, 5, 6]\n",
        "\n",
        "list1.extend(list2)\n",
        "print(list1)\n"
      ],
      "metadata": {
        "colab": {
          "base_uri": "https://localhost:8080/"
        },
        "id": "mL6tZKxBIqjr",
        "outputId": "bb940d1e-516c-410f-ac81-4fc7ba54eed4"
      },
      "execution_count": null,
      "outputs": [
        {
          "output_type": "stream",
          "name": "stdout",
          "text": [
            "[1, 2, 3, 4, 5, 6]\n"
          ]
        }
      ]
    },
    {
      "cell_type": "markdown",
      "source": [
        "*3. Insert the string \"Python\" at index 2 in the list [\"Java\", \"C++\", \"JavaScript\",\n",
        "\"Ruby\"].*"
      ],
      "metadata": {
        "id": "ypZVUi26Jwz6"
      }
    },
    {
      "cell_type": "code",
      "source": [
        "languages = [\"Java\", \"C++\", \"JavaScript\", \"Ruby\"]\n",
        "\n",
        "languages.insert(2, \"Python\")\n",
        "print(languages)\n"
      ],
      "metadata": {
        "colab": {
          "base_uri": "https://localhost:8080/"
        },
        "id": "Nfx7guwyJ4Ra",
        "outputId": "6e8c7c53-3afe-4f3e-8430-eb39beedda6c"
      },
      "execution_count": null,
      "outputs": [
        {
          "output_type": "stream",
          "name": "stdout",
          "text": [
            "['Java', 'C++', 'Python', 'JavaScript', 'Ruby']\n"
          ]
        }
      ]
    },
    {
      "cell_type": "markdown",
      "source": [
        "*4. Remove the first occurrence of the number 10 from the list [10, 20, 30, 10, 40].*\n",
        "\n",
        "\n"
      ],
      "metadata": {
        "id": "LPqyVqvtLFPQ"
      }
    },
    {
      "cell_type": "code",
      "source": [
        "numbers = [10, 20, 30, 10, 40]\n",
        "\n",
        "numbers.remove(10)\n",
        "print(numbers)\n"
      ],
      "metadata": {
        "colab": {
          "base_uri": "https://localhost:8080/"
        },
        "id": "Wvn7zStMLMKf",
        "outputId": "da19e02b-517c-4a52-f4dd-c99b2d451a07"
      },
      "execution_count": null,
      "outputs": [
        {
          "output_type": "stream",
          "name": "stdout",
          "text": [
            "[20, 30, 10, 40]\n"
          ]
        }
      ]
    },
    {
      "cell_type": "markdown",
      "source": [
        "*5. Use the pop() method to remove the last element from [100, 200, 300, 400] and\n",
        "print the modified list.*"
      ],
      "metadata": {
        "id": "WSsRmLmXLkcn"
      }
    },
    {
      "cell_type": "code",
      "source": [
        "numbers = [100, 200, 300, 400]\n",
        "\n",
        "numbers.pop()\n",
        "print(numbers)\n"
      ],
      "metadata": {
        "colab": {
          "base_uri": "https://localhost:8080/"
        },
        "id": "B7ECXWIFLqE3",
        "outputId": "ba87784b-e406-4dca-ad94-3c228b7c09d0"
      },
      "execution_count": null,
      "outputs": [
        {
          "output_type": "stream",
          "name": "stdout",
          "text": [
            "[100, 200, 300]\n"
          ]
        }
      ]
    },
    {
      "cell_type": "markdown",
      "source": [
        "                        XXXXXXXXXXXXXXXX__________________XXXXXXXXXXXXXXXX"
      ],
      "metadata": {
        "id": "YKwsYjExR3dc"
      }
    },
    {
      "cell_type": "markdown",
      "source": [
        "# ***Intermediate List Operations***"
      ],
      "metadata": {
        "id": "YrVhEUxKLz9e"
      }
    },
    {
      "cell_type": "markdown",
      "source": [
        "*6. Count how many times the number 5 appears in the list [5, 10, 5, 20, 5, 30]*"
      ],
      "metadata": {
        "id": "Dq-nqiLyn0lA"
      }
    },
    {
      "cell_type": "code",
      "source": [
        "numbers = [5, 10, 5, 20, 5, 30]\n",
        "\n",
        "count_5 = numbers.count(5)\n",
        "print(count_5)\n"
      ],
      "metadata": {
        "colab": {
          "base_uri": "https://localhost:8080/"
        },
        "id": "tab3fOrcn30m",
        "outputId": "12de7f13-d662-4952-d175-613518677380"
      },
      "execution_count": null,
      "outputs": [
        {
          "output_type": "stream",
          "name": "stdout",
          "text": [
            "3\n"
          ]
        }
      ]
    },
    {
      "cell_type": "markdown",
      "source": [
        "*7. Sort the list [9, 1, 8, 3, 5] in ascending and descending order.*"
      ],
      "metadata": {
        "id": "CrChi91EoV13"
      }
    },
    {
      "cell_type": "markdown",
      "source": [
        "# ***Ascending Order***"
      ],
      "metadata": {
        "id": "orC--arUojae"
      }
    },
    {
      "cell_type": "code",
      "source": [
        "numbers=[9,1,8,3,5]\n",
        "numbers.sort()\n",
        "print(numbers)"
      ],
      "metadata": {
        "colab": {
          "base_uri": "https://localhost:8080/"
        },
        "id": "mxUMTdi3opz-",
        "outputId": "a5c1bed1-9dae-4ef3-e4fb-b30f58840058"
      },
      "execution_count": null,
      "outputs": [
        {
          "output_type": "stream",
          "name": "stdout",
          "text": [
            "[1, 3, 5, 8, 9]\n"
          ]
        }
      ]
    },
    {
      "cell_type": "markdown",
      "source": [
        "# ***Descending Order***"
      ],
      "metadata": {
        "id": "4nt203EQoySl"
      }
    },
    {
      "cell_type": "code",
      "source": [
        "numbers=[9,1,8,3,5]\n",
        "numbers.sort(reverse=True)\n",
        "print(numbers)"
      ],
      "metadata": {
        "colab": {
          "base_uri": "https://localhost:8080/"
        },
        "id": "-WsYPrRWo3Im",
        "outputId": "fb18ad0a-e616-4770-8347-d976670ce9ee"
      },
      "execution_count": null,
      "outputs": [
        {
          "output_type": "stream",
          "name": "stdout",
          "text": [
            "[9, 8, 5, 3, 1]\n"
          ]
        }
      ]
    },
    {
      "cell_type": "markdown",
      "source": [
        "*8. Reverse the list [“apple”, “banana”, “cherry”] using the reverse() method.*"
      ],
      "metadata": {
        "id": "bYWxxftBpEA9"
      }
    },
    {
      "cell_type": "code",
      "source": [
        "fruits = [\"apple\", \"banana\", \"cherry\"]\n",
        "\n",
        "fruits.reverse()\n",
        "print(fruits)\n"
      ],
      "metadata": {
        "colab": {
          "base_uri": "https://localhost:8080/"
        },
        "id": "sLZM0uGwpHfu",
        "outputId": "aa296c32-a0e1-4f1e-cc10-6546e529bbf8"
      },
      "execution_count": null,
      "outputs": [
        {
          "output_type": "stream",
          "name": "stdout",
          "text": [
            "['cherry', 'banana', 'apple']\n"
          ]
        }
      ]
    },
    {
      "cell_type": "markdown",
      "source": [
        "*9. Create a copy of the list [1, 2, 3, 4, 5] and store it in another variable. Modify the\n",
        "copied list and print both lists.*"
      ],
      "metadata": {
        "id": "PaOwWPnHpQ-V"
      }
    },
    {
      "cell_type": "code",
      "source": [
        "original_list = [1, 2, 3, 4, 5]\n",
        "\n",
        "copied_list = original_list.copy()\n",
        "copied_list.append(6)\n",
        "\n",
        "print(\"Original List:\", original_list)\n",
        "print(\"Copied List:\", copied_list)\n"
      ],
      "metadata": {
        "colab": {
          "base_uri": "https://localhost:8080/"
        },
        "id": "evqaEvsqpUfX",
        "outputId": "23a63ebb-678e-4cd3-e5f9-3a6706afd415"
      },
      "execution_count": null,
      "outputs": [
        {
          "output_type": "stream",
          "name": "stdout",
          "text": [
            "Original List: [1, 2, 3, 4, 5]\n",
            "Copied List: [1, 2, 3, 4, 5, 6]\n"
          ]
        }
      ]
    },
    {
      "cell_type": "markdown",
      "source": [
        "*10. Clear all elements from a list [“hello”, “world”, “python”] using the clear()\n",
        "method.*\n",
        "\n",
        "\n"
      ],
      "metadata": {
        "id": "TN8KfDFopiTV"
      }
    },
    {
      "cell_type": "code",
      "source": [
        "words = [\"hello\", \"world\", \"python\"]\n",
        "\n",
        "words.clear()\n",
        "print(words)\n",
        "\n"
      ],
      "metadata": {
        "colab": {
          "base_uri": "https://localhost:8080/"
        },
        "id": "fPfBt7f3pkg8",
        "outputId": "86ba4c97-402b-42d1-b362-f8a482ddb761"
      },
      "execution_count": null,
      "outputs": [
        {
          "output_type": "stream",
          "name": "stdout",
          "text": [
            "[]\n"
          ]
        }
      ]
    },
    {
      "cell_type": "markdown",
      "source": [
        "                      \n",
        "                      XXXXXXXXXXXXXXXX__________________XXXXXXXXXXXXXXXX"
      ],
      "metadata": {
        "id": "uBAsAi5oSEJ8"
      }
    },
    {
      "cell_type": "markdown",
      "source": [
        "# ***Tuple-Based Questions***"
      ],
      "metadata": {
        "id": "K3oIcRj-qf8s"
      }
    },
    {
      "cell_type": "markdown",
      "source": [
        "*11. Create a tuple with 5 different fruits and print the third fruit.*"
      ],
      "metadata": {
        "id": "lchQaJRcqmt0"
      }
    },
    {
      "cell_type": "code",
      "source": [
        "fruits=[\"Grapes\",\"Apple\",\"Mango\",\"Strawberry\",\"Banana\"]\n",
        "third_fruit=fruits[2]\n",
        "print(third_fruit)"
      ],
      "metadata": {
        "colab": {
          "base_uri": "https://localhost:8080/"
        },
        "id": "YCpe4aAJqqLM",
        "outputId": "d69044e0-0174-4ae7-d68e-d48a52bfafa0"
      },
      "execution_count": null,
      "outputs": [
        {
          "output_type": "stream",
          "name": "stdout",
          "text": [
            "Mango\n"
          ]
        }
      ]
    },
    {
      "cell_type": "markdown",
      "source": [
        "*12. Convert the tuple (10, 20, 30, 40, 50) into a list, remove the number 30, and convert it back into a tuple.*"
      ],
      "metadata": {
        "id": "4PR2YiGDrIPz"
      }
    },
    {
      "cell_type": "code",
      "source": [
        "numbers=[10,20,30,40,50]\n",
        "numbers.remove(30)\n",
        "print(numbers)"
      ],
      "metadata": {
        "colab": {
          "base_uri": "https://localhost:8080/"
        },
        "id": "HRboHqFIrLRc",
        "outputId": "408f034f-0129-4b71-d991-ed879ac1a641"
      },
      "execution_count": null,
      "outputs": [
        {
          "output_type": "stream",
          "name": "stdout",
          "text": [
            "[10, 20, 40, 50]\n"
          ]
        }
      ]
    },
    {
      "cell_type": "markdown",
      "source": [
        "*13. Try to append an element to the tuple (“A”, “B”, “C”). What happens? How can you modify a tuple indirectly?*"
      ],
      "metadata": {
        "id": "WDpQHGSGrbg0"
      }
    },
    {
      "cell_type": "code",
      "source": [
        "# Tuples are immutable, so append() will give an error\n",
        "letters = (\"A\", \"B\", \"C\")\n",
        "\n",
        "# Indirect modification by converting to list\n",
        "letters_list = list(letters)\n",
        "letters_list.append(\"D\")\n",
        "letters = tuple(letters_list)\n",
        "\n",
        "print(letters)\n",
        "\n",
        "# Alternative: Using tuple concatenation\n",
        "letters = letters + (\"E\",)\n",
        "print(letters)\n"
      ],
      "metadata": {
        "colab": {
          "base_uri": "https://localhost:8080/"
        },
        "id": "hpEvnnYMrfWL",
        "outputId": "86466181-b69c-4634-b512-634901cdab6f"
      },
      "execution_count": null,
      "outputs": [
        {
          "output_type": "stream",
          "name": "stdout",
          "text": [
            "('A', 'B', 'C', 'D')\n",
            "('A', 'B', 'C', 'D', 'E')\n"
          ]
        }
      ]
    },
    {
      "cell_type": "markdown",
      "source": [
        "*14. Unpack the tuple (100, 200, 300) into three separate variables and print them.*"
      ],
      "metadata": {
        "id": "1W-CvzCksbc6"
      }
    },
    {
      "cell_type": "code",
      "source": [
        "numbers = (100, 200, 300)\n",
        "\n",
        "num1, num2, num3 = numbers\n",
        "\n",
        "print(num1)\n",
        "print(num2)\n",
        "print(num3)\n"
      ],
      "metadata": {
        "id": "hJTPctBZsf87"
      },
      "execution_count": null,
      "outputs": []
    },
    {
      "cell_type": "markdown",
      "source": [
        "*15. Count the occurrences of 7 in the tuple (7, 1, 7, 3, 7, 5).*"
      ],
      "metadata": {
        "id": "DHBcKWlMs1uK"
      }
    },
    {
      "cell_type": "code",
      "source": [
        "numbers = (7, 1, 7, 3, 7, 5)\n",
        "\n",
        "count_7 = numbers.count(7)\n",
        "\n",
        "print(count_7)\n"
      ],
      "metadata": {
        "colab": {
          "base_uri": "https://localhost:8080/"
        },
        "id": "6IklJspps5gy",
        "outputId": "755a349a-8fd3-43de-b4d4-cbb984b6bdc8"
      },
      "execution_count": null,
      "outputs": [
        {
          "output_type": "stream",
          "name": "stdout",
          "text": [
            "3\n"
          ]
        }
      ]
    },
    {
      "cell_type": "markdown",
      "source": [
        "                           XXXXXXXXXXXXXXXX__________________XXXXXXXXXXXXXXXX"
      ],
      "metadata": {
        "id": "1aKvRc8GSKQs"
      }
    },
    {
      "cell_type": "markdown",
      "source": [
        "# ***Advanced Problems***"
      ],
      "metadata": {
        "id": "AAoFLKUHtEYz"
      }
    },
    {
      "cell_type": "markdown",
      "source": [
        "*16. Write a function that takes a list and returns a new list with all even numbers removed.*"
      ],
      "metadata": {
        "id": "z10EHuYEtLrj"
      }
    },
    {
      "cell_type": "code",
      "source": [
        "def remove_evens(lst):\n",
        "    return [num for num in lst if num % 2 != 0]  # Sirf odd numbers rakhein\n",
        "\n",
        "numbers = [1, 2, 3, 4, 5, 6, 7, 8, 9, 10]\n",
        "filtered_list = remove_evens(numbers)\n",
        "\n",
        "print(filtered_list)\n"
      ],
      "metadata": {
        "colab": {
          "base_uri": "https://localhost:8080/"
        },
        "id": "kA5KJI9ZtOty",
        "outputId": "dabe79c1-9a08-4e58-8f2e-9a1239eadbd5"
      },
      "execution_count": null,
      "outputs": [
        {
          "output_type": "stream",
          "name": "stdout",
          "text": [
            "[1, 3, 5, 7, 9]\n"
          ]
        }
      ]
    },
    {
      "cell_type": "markdown",
      "source": [
        "*17. Create a function that accepts a list and returns a new list with elements sorted in descending order without using the sort() method.*"
      ],
      "metadata": {
        "id": "yRU04u1TtjAJ"
      }
    },
    {
      "cell_type": "code",
      "source": [
        "def custom_sort_desc(lst):\n",
        "    return sorted(lst, reverse=True)\n",
        "\n",
        "numbers = [5, 2, 9, 1, 7]\n",
        "print(custom_sort_desc(numbers))\n"
      ],
      "metadata": {
        "colab": {
          "base_uri": "https://localhost:8080/"
        },
        "id": "J0nkFenmtlZh",
        "outputId": "85b68070-1eed-4bb2-8cbf-b3502dac371b"
      },
      "execution_count": null,
      "outputs": [
        {
          "output_type": "stream",
          "name": "stdout",
          "text": [
            "[9, 7, 5, 2, 1]\n"
          ]
        }
      ]
    },
    {
      "cell_type": "markdown",
      "source": [
        "*18. Given a list of numbers, write a program to remove all duplicate elements and print the unique elements.*"
      ],
      "metadata": {
        "id": "OBTtgTKUt62p"
      }
    },
    {
      "cell_type": "code",
      "source": [
        "def remove_duplicates(lst):\n",
        "    return list(set(lst))\n",
        "\n",
        "numbers = [1, 2, 3, 2, 4, 5, 3, 6, 5]\n",
        "unique_numbers = remove_duplicates(numbers)\n",
        "\n",
        "print(unique_numbers)\n"
      ],
      "metadata": {
        "colab": {
          "base_uri": "https://localhost:8080/"
        },
        "id": "FFLNCnxRuAdC",
        "outputId": "eaf45688-2cc5-4db3-a525-af4847d3d14a"
      },
      "execution_count": null,
      "outputs": [
        {
          "output_type": "stream",
          "name": "stdout",
          "text": [
            "[1, 2, 3, 4, 5, 6]\n"
          ]
        }
      ]
    },
    {
      "cell_type": "markdown",
      "source": [
        "*19. Given a tuple of names (“Alice”, “Bob”, “Charlie”, “Alice”, “David”), convert it into a list, remove duplicates, and convert it back to a tuple.*"
      ],
      "metadata": {
        "id": "1aa-W9fguRjZ"
      }
    },
    {
      "cell_type": "code",
      "source": [
        "names_tuple = (\"Tayyaba\", \"Areeba\", \"Tayyaba\", \"Safia\", \"Farwah\")\n",
        "\n",
        "unique_names_tuple = tuple(set(names_tuple))\n",
        "\n",
        "print(unique_names_tuple)\n"
      ],
      "metadata": {
        "colab": {
          "base_uri": "https://localhost:8080/"
        },
        "id": "iwMcEitSuXEx",
        "outputId": "651c5333-3bb4-4766-a9b3-e54aaa519afb"
      },
      "execution_count": null,
      "outputs": [
        {
          "output_type": "stream",
          "name": "stdout",
          "text": [
            "('Safia', 'Tayyaba', 'Areeba', 'Farwah')\n"
          ]
        }
      ]
    },
    {
      "cell_type": "markdown",
      "source": [
        "*20. Create a program that takes a list of mixed data types (int, str, float) and separates integers into one list, strings into another, and floats into another.*"
      ],
      "metadata": {
        "id": "dLemlbdUuyTB"
      }
    },
    {
      "cell_type": "code",
      "source": [
        "def separate_data_types(mixed_list):\n",
        "    int_list = []\n",
        "    str_list = []\n",
        "    float_list = []\n",
        "\n",
        "    for item in mixed_list:\n",
        "        if isinstance(item, int):\n",
        "            int_list.append(item)\n",
        "        elif isinstance(item, str):\n",
        "            str_list.append(item)\n",
        "        elif isinstance(item, float):\n",
        "            float_list.append(item)\n",
        "\n",
        "    return int_list, str_list, float_list\n",
        "\n",
        "mixed_data = [1, \"hello\", 2.5, 3, \"world\", 4.0, 7, \"python\"]\n",
        "integers, strings, floats = separate_data_types(mixed_data)\n",
        "\n",
        "print(\"Integers:\", integers)\n",
        "print(\"Strings:\", strings)\n",
        "print(\"Floats:\", floats)\n",
        "\n"
      ],
      "metadata": {
        "colab": {
          "base_uri": "https://localhost:8080/"
        },
        "id": "dsBfJmS3u4eh",
        "outputId": "54c03107-1681-438f-beb5-655db6043ad9"
      },
      "execution_count": null,
      "outputs": [
        {
          "output_type": "stream",
          "name": "stdout",
          "text": [
            "Integers: [1, 3, 7]\n",
            "Strings: ['hello', 'world', 'python']\n",
            "Floats: [2.5, 4.0]\n"
          ]
        }
      ]
    },
    {
      "cell_type": "markdown",
      "source": [
        "                             XXXXXXXXXXXXXXXX__________________XXXXXXXXXXXXXXXX"
      ],
      "metadata": {
        "id": "stCYNhOOSNxk"
      }
    }
  ]
}